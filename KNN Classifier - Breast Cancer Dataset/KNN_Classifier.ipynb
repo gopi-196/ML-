{
  "nbformat": 4,
  "nbformat_minor": 0,
  "metadata": {
    "kernelspec": {
      "display_name": "Python 3",
      "language": "python",
      "name": "python3"
    },
    "language_info": {
      "codemirror_mode": {
        "name": "ipython",
        "version": 3
      },
      "file_extension": ".py",
      "mimetype": "text/x-python",
      "name": "python",
      "nbconvert_exporter": "python",
      "pygments_lexer": "ipython3",
      "version": "3.7.4"
    },
    "colab": {
      "provenance": []
    }
  },
  "cells": [
    {
      "cell_type": "markdown",
      "metadata": {
        "id": "08owH-AVyZCX"
      },
      "source": [
        "#K - Nearest Neighbors Classifier Implementation"
      ]
    },
    {
      "cell_type": "markdown",
      "source": [
        "##Part 1: Exploring Dataset"
      ],
      "metadata": {
        "id": "Rt-ICU5Tf1w9"
      }
    },
    {
      "cell_type": "code",
      "metadata": {
        "id": "YFo8KVcryZFe"
      },
      "source": [
        "from sklearn.datasets import load_breast_cancer\n",
        "dataset = load_breast_cancer()"
      ],
      "execution_count": null,
      "outputs": []
    },
    {
      "cell_type": "code",
      "source": [
        "dataset"
      ],
      "metadata": {
        "colab": {
          "base_uri": "https://localhost:8080/"
        },
        "id": "XgKlZqXITFq0",
        "outputId": "8c8f6512-a876-4087-c0ae-6d45e6d32131"
      },
      "execution_count": null,
      "outputs": [
        {
          "output_type": "execute_result",
          "data": {
            "text/plain": [
              "{'DESCR': '.. _breast_cancer_dataset:\\n\\nBreast cancer wisconsin (diagnostic) dataset\\n--------------------------------------------\\n\\n**Data Set Characteristics:**\\n\\n    :Number of Instances: 569\\n\\n    :Number of Attributes: 30 numeric, predictive attributes and the class\\n\\n    :Attribute Information:\\n        - radius (mean of distances from center to points on the perimeter)\\n        - texture (standard deviation of gray-scale values)\\n        - perimeter\\n        - area\\n        - smoothness (local variation in radius lengths)\\n        - compactness (perimeter^2 / area - 1.0)\\n        - concavity (severity of concave portions of the contour)\\n        - concave points (number of concave portions of the contour)\\n        - symmetry\\n        - fractal dimension (\"coastline approximation\" - 1)\\n\\n        The mean, standard error, and \"worst\" or largest (mean of the three\\n        worst/largest values) of these features were computed for each image,\\n        resulting in 30 features.  For instance, field 0 is Mean Radius, field\\n        10 is Radius SE, field 20 is Worst Radius.\\n\\n        - class:\\n                - WDBC-Malignant\\n                - WDBC-Benign\\n\\n    :Summary Statistics:\\n\\n    ===================================== ====== ======\\n                                           Min    Max\\n    ===================================== ====== ======\\n    radius (mean):                        6.981  28.11\\n    texture (mean):                       9.71   39.28\\n    perimeter (mean):                     43.79  188.5\\n    area (mean):                          143.5  2501.0\\n    smoothness (mean):                    0.053  0.163\\n    compactness (mean):                   0.019  0.345\\n    concavity (mean):                     0.0    0.427\\n    concave points (mean):                0.0    0.201\\n    symmetry (mean):                      0.106  0.304\\n    fractal dimension (mean):             0.05   0.097\\n    radius (standard error):              0.112  2.873\\n    texture (standard error):             0.36   4.885\\n    perimeter (standard error):           0.757  21.98\\n    area (standard error):                6.802  542.2\\n    smoothness (standard error):          0.002  0.031\\n    compactness (standard error):         0.002  0.135\\n    concavity (standard error):           0.0    0.396\\n    concave points (standard error):      0.0    0.053\\n    symmetry (standard error):            0.008  0.079\\n    fractal dimension (standard error):   0.001  0.03\\n    radius (worst):                       7.93   36.04\\n    texture (worst):                      12.02  49.54\\n    perimeter (worst):                    50.41  251.2\\n    area (worst):                         185.2  4254.0\\n    smoothness (worst):                   0.071  0.223\\n    compactness (worst):                  0.027  1.058\\n    concavity (worst):                    0.0    1.252\\n    concave points (worst):               0.0    0.291\\n    symmetry (worst):                     0.156  0.664\\n    fractal dimension (worst):            0.055  0.208\\n    ===================================== ====== ======\\n\\n    :Missing Attribute Values: None\\n\\n    :Class Distribution: 212 - Malignant, 357 - Benign\\n\\n    :Creator:  Dr. William H. Wolberg, W. Nick Street, Olvi L. Mangasarian\\n\\n    :Donor: Nick Street\\n\\n    :Date: November, 1995\\n\\nThis is a copy of UCI ML Breast Cancer Wisconsin (Diagnostic) datasets.\\nhttps://goo.gl/U2Uwz2\\n\\nFeatures are computed from a digitized image of a fine needle\\naspirate (FNA) of a breast mass.  They describe\\ncharacteristics of the cell nuclei present in the image.\\n\\nSeparating plane described above was obtained using\\nMultisurface Method-Tree (MSM-T) [K. P. Bennett, \"Decision Tree\\nConstruction Via Linear Programming.\" Proceedings of the 4th\\nMidwest Artificial Intelligence and Cognitive Science Society,\\npp. 97-101, 1992], a classification method which uses linear\\nprogramming to construct a decision tree.  Relevant features\\nwere selected using an exhaustive search in the space of 1-4\\nfeatures and 1-3 separating planes.\\n\\nThe actual linear program used to obtain the separating plane\\nin the 3-dimensional space is that described in:\\n[K. P. Bennett and O. L. Mangasarian: \"Robust Linear\\nProgramming Discrimination of Two Linearly Inseparable Sets\",\\nOptimization Methods and Software 1, 1992, 23-34].\\n\\nThis database is also available through the UW CS ftp server:\\n\\nftp ftp.cs.wisc.edu\\ncd math-prog/cpo-dataset/machine-learn/WDBC/\\n\\n.. topic:: References\\n\\n   - W.N. Street, W.H. Wolberg and O.L. Mangasarian. Nuclear feature extraction \\n     for breast tumor diagnosis. IS&T/SPIE 1993 International Symposium on \\n     Electronic Imaging: Science and Technology, volume 1905, pages 861-870,\\n     San Jose, CA, 1993.\\n   - O.L. Mangasarian, W.N. Street and W.H. Wolberg. Breast cancer diagnosis and \\n     prognosis via linear programming. Operations Research, 43(4), pages 570-577, \\n     July-August 1995.\\n   - W.H. Wolberg, W.N. Street, and O.L. Mangasarian. Machine learning techniques\\n     to diagnose breast cancer from fine-needle aspirates. Cancer Letters 77 (1994) \\n     163-171.',\n",
              " 'data': array([[1.799e+01, 1.038e+01, 1.228e+02, ..., 2.654e-01, 4.601e-01,\n",
              "         1.189e-01],\n",
              "        [2.057e+01, 1.777e+01, 1.329e+02, ..., 1.860e-01, 2.750e-01,\n",
              "         8.902e-02],\n",
              "        [1.969e+01, 2.125e+01, 1.300e+02, ..., 2.430e-01, 3.613e-01,\n",
              "         8.758e-02],\n",
              "        ...,\n",
              "        [1.660e+01, 2.808e+01, 1.083e+02, ..., 1.418e-01, 2.218e-01,\n",
              "         7.820e-02],\n",
              "        [2.060e+01, 2.933e+01, 1.401e+02, ..., 2.650e-01, 4.087e-01,\n",
              "         1.240e-01],\n",
              "        [7.760e+00, 2.454e+01, 4.792e+01, ..., 0.000e+00, 2.871e-01,\n",
              "         7.039e-02]]),\n",
              " 'data_module': 'sklearn.datasets.data',\n",
              " 'feature_names': array(['mean radius', 'mean texture', 'mean perimeter', 'mean area',\n",
              "        'mean smoothness', 'mean compactness', 'mean concavity',\n",
              "        'mean concave points', 'mean symmetry', 'mean fractal dimension',\n",
              "        'radius error', 'texture error', 'perimeter error', 'area error',\n",
              "        'smoothness error', 'compactness error', 'concavity error',\n",
              "        'concave points error', 'symmetry error',\n",
              "        'fractal dimension error', 'worst radius', 'worst texture',\n",
              "        'worst perimeter', 'worst area', 'worst smoothness',\n",
              "        'worst compactness', 'worst concavity', 'worst concave points',\n",
              "        'worst symmetry', 'worst fractal dimension'], dtype='<U23'),\n",
              " 'filename': 'breast_cancer.csv',\n",
              " 'frame': None,\n",
              " 'target': array([0, 0, 0, 0, 0, 0, 0, 0, 0, 0, 0, 0, 0, 0, 0, 0, 0, 0, 0, 1, 1, 1,\n",
              "        0, 0, 0, 0, 0, 0, 0, 0, 0, 0, 0, 0, 0, 0, 0, 1, 0, 0, 0, 0, 0, 0,\n",
              "        0, 0, 1, 0, 1, 1, 1, 1, 1, 0, 0, 1, 0, 0, 1, 1, 1, 1, 0, 1, 0, 0,\n",
              "        1, 1, 1, 1, 0, 1, 0, 0, 1, 0, 1, 0, 0, 1, 1, 1, 0, 0, 1, 0, 0, 0,\n",
              "        1, 1, 1, 0, 1, 1, 0, 0, 1, 1, 1, 0, 0, 1, 1, 1, 1, 0, 1, 1, 0, 1,\n",
              "        1, 1, 1, 1, 1, 1, 1, 0, 0, 0, 1, 0, 0, 1, 1, 1, 0, 0, 1, 0, 1, 0,\n",
              "        0, 1, 0, 0, 1, 1, 0, 1, 1, 0, 1, 1, 1, 1, 0, 1, 1, 1, 1, 1, 1, 1,\n",
              "        1, 1, 0, 1, 1, 1, 1, 0, 0, 1, 0, 1, 1, 0, 0, 1, 1, 0, 0, 1, 1, 1,\n",
              "        1, 0, 1, 1, 0, 0, 0, 1, 0, 1, 0, 1, 1, 1, 0, 1, 1, 0, 0, 1, 0, 0,\n",
              "        0, 0, 1, 0, 0, 0, 1, 0, 1, 0, 1, 1, 0, 1, 0, 0, 0, 0, 1, 1, 0, 0,\n",
              "        1, 1, 1, 0, 1, 1, 1, 1, 1, 0, 0, 1, 1, 0, 1, 1, 0, 0, 1, 0, 1, 1,\n",
              "        1, 1, 0, 1, 1, 1, 1, 1, 0, 1, 0, 0, 0, 0, 0, 0, 0, 0, 0, 0, 0, 0,\n",
              "        0, 0, 1, 1, 1, 1, 1, 1, 0, 1, 0, 1, 1, 0, 1, 1, 0, 1, 0, 0, 1, 1,\n",
              "        1, 1, 1, 1, 1, 1, 1, 1, 1, 1, 1, 0, 1, 1, 0, 1, 0, 1, 1, 1, 1, 1,\n",
              "        1, 1, 1, 1, 1, 1, 1, 1, 1, 0, 1, 1, 1, 0, 1, 0, 1, 1, 1, 1, 0, 0,\n",
              "        0, 1, 1, 1, 1, 0, 1, 0, 1, 0, 1, 1, 1, 0, 1, 1, 1, 1, 1, 1, 1, 0,\n",
              "        0, 0, 1, 1, 1, 1, 1, 1, 1, 1, 1, 1, 1, 0, 0, 1, 0, 0, 0, 1, 0, 0,\n",
              "        1, 1, 1, 1, 1, 0, 1, 1, 1, 1, 1, 0, 1, 1, 1, 0, 1, 1, 0, 0, 1, 1,\n",
              "        1, 1, 1, 1, 0, 1, 1, 1, 1, 1, 1, 1, 0, 1, 1, 1, 1, 1, 0, 1, 1, 0,\n",
              "        1, 1, 1, 1, 1, 1, 1, 1, 1, 1, 1, 1, 0, 1, 0, 0, 1, 0, 1, 1, 1, 1,\n",
              "        1, 0, 1, 1, 0, 1, 0, 1, 1, 0, 1, 0, 1, 1, 1, 1, 1, 1, 1, 1, 0, 0,\n",
              "        1, 1, 1, 1, 1, 1, 0, 1, 1, 1, 1, 1, 1, 1, 1, 1, 1, 0, 1, 1, 1, 1,\n",
              "        1, 1, 1, 0, 1, 0, 1, 1, 0, 1, 1, 1, 1, 1, 0, 0, 1, 0, 1, 0, 1, 1,\n",
              "        1, 1, 1, 0, 1, 1, 0, 1, 0, 1, 0, 0, 1, 1, 1, 0, 1, 1, 1, 1, 1, 1,\n",
              "        1, 1, 1, 1, 1, 0, 1, 0, 0, 1, 1, 1, 1, 1, 1, 1, 1, 1, 1, 1, 1, 1,\n",
              "        1, 1, 1, 1, 1, 1, 1, 1, 1, 1, 1, 1, 0, 0, 0, 0, 0, 0, 1]),\n",
              " 'target_names': array(['malignant', 'benign'], dtype='<U9')}"
            ]
          },
          "metadata": {},
          "execution_count": 102
        }
      ]
    },
    {
      "cell_type": "code",
      "source": [
        "import pandas as pd\n",
        "import numpy as np\n",
        "\n",
        "df = pd.DataFrame(data=np.c_[dataset['data'],dataset['target']],columns=np.append(dataset['feature_names'],['target']))\n",
        "mapping = {0: dataset.target_names[0], 1: dataset.target_names[1]}\n",
        "df = df.replace({'target': mapping})"
      ],
      "metadata": {
        "id": "ffISRrXKR8G_"
      },
      "execution_count": null,
      "outputs": []
    },
    {
      "cell_type": "code",
      "source": [
        "df"
      ],
      "metadata": {
        "colab": {
          "base_uri": "https://localhost:8080/",
          "height": 502
        },
        "id": "b1BOYmpgSU_s",
        "outputId": "67253853-5ed4-4dd2-b8a9-20e42ad5adc9"
      },
      "execution_count": null,
      "outputs": [
        {
          "output_type": "execute_result",
          "data": {
            "text/plain": [
              "     mean radius  mean texture  mean perimeter  mean area  mean smoothness  \\\n",
              "0          17.99         10.38          122.80     1001.0          0.11840   \n",
              "1          20.57         17.77          132.90     1326.0          0.08474   \n",
              "2          19.69         21.25          130.00     1203.0          0.10960   \n",
              "3          11.42         20.38           77.58      386.1          0.14250   \n",
              "4          20.29         14.34          135.10     1297.0          0.10030   \n",
              "..           ...           ...             ...        ...              ...   \n",
              "564        21.56         22.39          142.00     1479.0          0.11100   \n",
              "565        20.13         28.25          131.20     1261.0          0.09780   \n",
              "566        16.60         28.08          108.30      858.1          0.08455   \n",
              "567        20.60         29.33          140.10     1265.0          0.11780   \n",
              "568         7.76         24.54           47.92      181.0          0.05263   \n",
              "\n",
              "     mean compactness  mean concavity  mean concave points  mean symmetry  \\\n",
              "0             0.27760         0.30010              0.14710         0.2419   \n",
              "1             0.07864         0.08690              0.07017         0.1812   \n",
              "2             0.15990         0.19740              0.12790         0.2069   \n",
              "3             0.28390         0.24140              0.10520         0.2597   \n",
              "4             0.13280         0.19800              0.10430         0.1809   \n",
              "..                ...             ...                  ...            ...   \n",
              "564           0.11590         0.24390              0.13890         0.1726   \n",
              "565           0.10340         0.14400              0.09791         0.1752   \n",
              "566           0.10230         0.09251              0.05302         0.1590   \n",
              "567           0.27700         0.35140              0.15200         0.2397   \n",
              "568           0.04362         0.00000              0.00000         0.1587   \n",
              "\n",
              "     mean fractal dimension  ...  worst texture  worst perimeter  worst area  \\\n",
              "0                   0.07871  ...          17.33           184.60      2019.0   \n",
              "1                   0.05667  ...          23.41           158.80      1956.0   \n",
              "2                   0.05999  ...          25.53           152.50      1709.0   \n",
              "3                   0.09744  ...          26.50            98.87       567.7   \n",
              "4                   0.05883  ...          16.67           152.20      1575.0   \n",
              "..                      ...  ...            ...              ...         ...   \n",
              "564                 0.05623  ...          26.40           166.10      2027.0   \n",
              "565                 0.05533  ...          38.25           155.00      1731.0   \n",
              "566                 0.05648  ...          34.12           126.70      1124.0   \n",
              "567                 0.07016  ...          39.42           184.60      1821.0   \n",
              "568                 0.05884  ...          30.37            59.16       268.6   \n",
              "\n",
              "     worst smoothness  worst compactness  worst concavity  \\\n",
              "0             0.16220            0.66560           0.7119   \n",
              "1             0.12380            0.18660           0.2416   \n",
              "2             0.14440            0.42450           0.4504   \n",
              "3             0.20980            0.86630           0.6869   \n",
              "4             0.13740            0.20500           0.4000   \n",
              "..                ...                ...              ...   \n",
              "564           0.14100            0.21130           0.4107   \n",
              "565           0.11660            0.19220           0.3215   \n",
              "566           0.11390            0.30940           0.3403   \n",
              "567           0.16500            0.86810           0.9387   \n",
              "568           0.08996            0.06444           0.0000   \n",
              "\n",
              "     worst concave points  worst symmetry  worst fractal dimension     target  \n",
              "0                  0.2654          0.4601                  0.11890  malignant  \n",
              "1                  0.1860          0.2750                  0.08902  malignant  \n",
              "2                  0.2430          0.3613                  0.08758  malignant  \n",
              "3                  0.2575          0.6638                  0.17300  malignant  \n",
              "4                  0.1625          0.2364                  0.07678  malignant  \n",
              "..                    ...             ...                      ...        ...  \n",
              "564                0.2216          0.2060                  0.07115  malignant  \n",
              "565                0.1628          0.2572                  0.06637  malignant  \n",
              "566                0.1418          0.2218                  0.07820  malignant  \n",
              "567                0.2650          0.4087                  0.12400  malignant  \n",
              "568                0.0000          0.2871                  0.07039     benign  \n",
              "\n",
              "[569 rows x 31 columns]"
            ],
            "text/html": [
              "\n",
              "  <div id=\"df-c87a3243-eebe-40d4-9427-40e34b232b92\">\n",
              "    <div class=\"colab-df-container\">\n",
              "      <div>\n",
              "<style scoped>\n",
              "    .dataframe tbody tr th:only-of-type {\n",
              "        vertical-align: middle;\n",
              "    }\n",
              "\n",
              "    .dataframe tbody tr th {\n",
              "        vertical-align: top;\n",
              "    }\n",
              "\n",
              "    .dataframe thead th {\n",
              "        text-align: right;\n",
              "    }\n",
              "</style>\n",
              "<table border=\"1\" class=\"dataframe\">\n",
              "  <thead>\n",
              "    <tr style=\"text-align: right;\">\n",
              "      <th></th>\n",
              "      <th>mean radius</th>\n",
              "      <th>mean texture</th>\n",
              "      <th>mean perimeter</th>\n",
              "      <th>mean area</th>\n",
              "      <th>mean smoothness</th>\n",
              "      <th>mean compactness</th>\n",
              "      <th>mean concavity</th>\n",
              "      <th>mean concave points</th>\n",
              "      <th>mean symmetry</th>\n",
              "      <th>mean fractal dimension</th>\n",
              "      <th>...</th>\n",
              "      <th>worst texture</th>\n",
              "      <th>worst perimeter</th>\n",
              "      <th>worst area</th>\n",
              "      <th>worst smoothness</th>\n",
              "      <th>worst compactness</th>\n",
              "      <th>worst concavity</th>\n",
              "      <th>worst concave points</th>\n",
              "      <th>worst symmetry</th>\n",
              "      <th>worst fractal dimension</th>\n",
              "      <th>target</th>\n",
              "    </tr>\n",
              "  </thead>\n",
              "  <tbody>\n",
              "    <tr>\n",
              "      <th>0</th>\n",
              "      <td>17.99</td>\n",
              "      <td>10.38</td>\n",
              "      <td>122.80</td>\n",
              "      <td>1001.0</td>\n",
              "      <td>0.11840</td>\n",
              "      <td>0.27760</td>\n",
              "      <td>0.30010</td>\n",
              "      <td>0.14710</td>\n",
              "      <td>0.2419</td>\n",
              "      <td>0.07871</td>\n",
              "      <td>...</td>\n",
              "      <td>17.33</td>\n",
              "      <td>184.60</td>\n",
              "      <td>2019.0</td>\n",
              "      <td>0.16220</td>\n",
              "      <td>0.66560</td>\n",
              "      <td>0.7119</td>\n",
              "      <td>0.2654</td>\n",
              "      <td>0.4601</td>\n",
              "      <td>0.11890</td>\n",
              "      <td>malignant</td>\n",
              "    </tr>\n",
              "    <tr>\n",
              "      <th>1</th>\n",
              "      <td>20.57</td>\n",
              "      <td>17.77</td>\n",
              "      <td>132.90</td>\n",
              "      <td>1326.0</td>\n",
              "      <td>0.08474</td>\n",
              "      <td>0.07864</td>\n",
              "      <td>0.08690</td>\n",
              "      <td>0.07017</td>\n",
              "      <td>0.1812</td>\n",
              "      <td>0.05667</td>\n",
              "      <td>...</td>\n",
              "      <td>23.41</td>\n",
              "      <td>158.80</td>\n",
              "      <td>1956.0</td>\n",
              "      <td>0.12380</td>\n",
              "      <td>0.18660</td>\n",
              "      <td>0.2416</td>\n",
              "      <td>0.1860</td>\n",
              "      <td>0.2750</td>\n",
              "      <td>0.08902</td>\n",
              "      <td>malignant</td>\n",
              "    </tr>\n",
              "    <tr>\n",
              "      <th>2</th>\n",
              "      <td>19.69</td>\n",
              "      <td>21.25</td>\n",
              "      <td>130.00</td>\n",
              "      <td>1203.0</td>\n",
              "      <td>0.10960</td>\n",
              "      <td>0.15990</td>\n",
              "      <td>0.19740</td>\n",
              "      <td>0.12790</td>\n",
              "      <td>0.2069</td>\n",
              "      <td>0.05999</td>\n",
              "      <td>...</td>\n",
              "      <td>25.53</td>\n",
              "      <td>152.50</td>\n",
              "      <td>1709.0</td>\n",
              "      <td>0.14440</td>\n",
              "      <td>0.42450</td>\n",
              "      <td>0.4504</td>\n",
              "      <td>0.2430</td>\n",
              "      <td>0.3613</td>\n",
              "      <td>0.08758</td>\n",
              "      <td>malignant</td>\n",
              "    </tr>\n",
              "    <tr>\n",
              "      <th>3</th>\n",
              "      <td>11.42</td>\n",
              "      <td>20.38</td>\n",
              "      <td>77.58</td>\n",
              "      <td>386.1</td>\n",
              "      <td>0.14250</td>\n",
              "      <td>0.28390</td>\n",
              "      <td>0.24140</td>\n",
              "      <td>0.10520</td>\n",
              "      <td>0.2597</td>\n",
              "      <td>0.09744</td>\n",
              "      <td>...</td>\n",
              "      <td>26.50</td>\n",
              "      <td>98.87</td>\n",
              "      <td>567.7</td>\n",
              "      <td>0.20980</td>\n",
              "      <td>0.86630</td>\n",
              "      <td>0.6869</td>\n",
              "      <td>0.2575</td>\n",
              "      <td>0.6638</td>\n",
              "      <td>0.17300</td>\n",
              "      <td>malignant</td>\n",
              "    </tr>\n",
              "    <tr>\n",
              "      <th>4</th>\n",
              "      <td>20.29</td>\n",
              "      <td>14.34</td>\n",
              "      <td>135.10</td>\n",
              "      <td>1297.0</td>\n",
              "      <td>0.10030</td>\n",
              "      <td>0.13280</td>\n",
              "      <td>0.19800</td>\n",
              "      <td>0.10430</td>\n",
              "      <td>0.1809</td>\n",
              "      <td>0.05883</td>\n",
              "      <td>...</td>\n",
              "      <td>16.67</td>\n",
              "      <td>152.20</td>\n",
              "      <td>1575.0</td>\n",
              "      <td>0.13740</td>\n",
              "      <td>0.20500</td>\n",
              "      <td>0.4000</td>\n",
              "      <td>0.1625</td>\n",
              "      <td>0.2364</td>\n",
              "      <td>0.07678</td>\n",
              "      <td>malignant</td>\n",
              "    </tr>\n",
              "    <tr>\n",
              "      <th>...</th>\n",
              "      <td>...</td>\n",
              "      <td>...</td>\n",
              "      <td>...</td>\n",
              "      <td>...</td>\n",
              "      <td>...</td>\n",
              "      <td>...</td>\n",
              "      <td>...</td>\n",
              "      <td>...</td>\n",
              "      <td>...</td>\n",
              "      <td>...</td>\n",
              "      <td>...</td>\n",
              "      <td>...</td>\n",
              "      <td>...</td>\n",
              "      <td>...</td>\n",
              "      <td>...</td>\n",
              "      <td>...</td>\n",
              "      <td>...</td>\n",
              "      <td>...</td>\n",
              "      <td>...</td>\n",
              "      <td>...</td>\n",
              "      <td>...</td>\n",
              "    </tr>\n",
              "    <tr>\n",
              "      <th>564</th>\n",
              "      <td>21.56</td>\n",
              "      <td>22.39</td>\n",
              "      <td>142.00</td>\n",
              "      <td>1479.0</td>\n",
              "      <td>0.11100</td>\n",
              "      <td>0.11590</td>\n",
              "      <td>0.24390</td>\n",
              "      <td>0.13890</td>\n",
              "      <td>0.1726</td>\n",
              "      <td>0.05623</td>\n",
              "      <td>...</td>\n",
              "      <td>26.40</td>\n",
              "      <td>166.10</td>\n",
              "      <td>2027.0</td>\n",
              "      <td>0.14100</td>\n",
              "      <td>0.21130</td>\n",
              "      <td>0.4107</td>\n",
              "      <td>0.2216</td>\n",
              "      <td>0.2060</td>\n",
              "      <td>0.07115</td>\n",
              "      <td>malignant</td>\n",
              "    </tr>\n",
              "    <tr>\n",
              "      <th>565</th>\n",
              "      <td>20.13</td>\n",
              "      <td>28.25</td>\n",
              "      <td>131.20</td>\n",
              "      <td>1261.0</td>\n",
              "      <td>0.09780</td>\n",
              "      <td>0.10340</td>\n",
              "      <td>0.14400</td>\n",
              "      <td>0.09791</td>\n",
              "      <td>0.1752</td>\n",
              "      <td>0.05533</td>\n",
              "      <td>...</td>\n",
              "      <td>38.25</td>\n",
              "      <td>155.00</td>\n",
              "      <td>1731.0</td>\n",
              "      <td>0.11660</td>\n",
              "      <td>0.19220</td>\n",
              "      <td>0.3215</td>\n",
              "      <td>0.1628</td>\n",
              "      <td>0.2572</td>\n",
              "      <td>0.06637</td>\n",
              "      <td>malignant</td>\n",
              "    </tr>\n",
              "    <tr>\n",
              "      <th>566</th>\n",
              "      <td>16.60</td>\n",
              "      <td>28.08</td>\n",
              "      <td>108.30</td>\n",
              "      <td>858.1</td>\n",
              "      <td>0.08455</td>\n",
              "      <td>0.10230</td>\n",
              "      <td>0.09251</td>\n",
              "      <td>0.05302</td>\n",
              "      <td>0.1590</td>\n",
              "      <td>0.05648</td>\n",
              "      <td>...</td>\n",
              "      <td>34.12</td>\n",
              "      <td>126.70</td>\n",
              "      <td>1124.0</td>\n",
              "      <td>0.11390</td>\n",
              "      <td>0.30940</td>\n",
              "      <td>0.3403</td>\n",
              "      <td>0.1418</td>\n",
              "      <td>0.2218</td>\n",
              "      <td>0.07820</td>\n",
              "      <td>malignant</td>\n",
              "    </tr>\n",
              "    <tr>\n",
              "      <th>567</th>\n",
              "      <td>20.60</td>\n",
              "      <td>29.33</td>\n",
              "      <td>140.10</td>\n",
              "      <td>1265.0</td>\n",
              "      <td>0.11780</td>\n",
              "      <td>0.27700</td>\n",
              "      <td>0.35140</td>\n",
              "      <td>0.15200</td>\n",
              "      <td>0.2397</td>\n",
              "      <td>0.07016</td>\n",
              "      <td>...</td>\n",
              "      <td>39.42</td>\n",
              "      <td>184.60</td>\n",
              "      <td>1821.0</td>\n",
              "      <td>0.16500</td>\n",
              "      <td>0.86810</td>\n",
              "      <td>0.9387</td>\n",
              "      <td>0.2650</td>\n",
              "      <td>0.4087</td>\n",
              "      <td>0.12400</td>\n",
              "      <td>malignant</td>\n",
              "    </tr>\n",
              "    <tr>\n",
              "      <th>568</th>\n",
              "      <td>7.76</td>\n",
              "      <td>24.54</td>\n",
              "      <td>47.92</td>\n",
              "      <td>181.0</td>\n",
              "      <td>0.05263</td>\n",
              "      <td>0.04362</td>\n",
              "      <td>0.00000</td>\n",
              "      <td>0.00000</td>\n",
              "      <td>0.1587</td>\n",
              "      <td>0.05884</td>\n",
              "      <td>...</td>\n",
              "      <td>30.37</td>\n",
              "      <td>59.16</td>\n",
              "      <td>268.6</td>\n",
              "      <td>0.08996</td>\n",
              "      <td>0.06444</td>\n",
              "      <td>0.0000</td>\n",
              "      <td>0.0000</td>\n",
              "      <td>0.2871</td>\n",
              "      <td>0.07039</td>\n",
              "      <td>benign</td>\n",
              "    </tr>\n",
              "  </tbody>\n",
              "</table>\n",
              "<p>569 rows × 31 columns</p>\n",
              "</div>\n",
              "      <button class=\"colab-df-convert\" onclick=\"convertToInteractive('df-c87a3243-eebe-40d4-9427-40e34b232b92')\"\n",
              "              title=\"Convert this dataframe to an interactive table.\"\n",
              "              style=\"display:none;\">\n",
              "        \n",
              "  <svg xmlns=\"http://www.w3.org/2000/svg\" height=\"24px\"viewBox=\"0 0 24 24\"\n",
              "       width=\"24px\">\n",
              "    <path d=\"M0 0h24v24H0V0z\" fill=\"none\"/>\n",
              "    <path d=\"M18.56 5.44l.94 2.06.94-2.06 2.06-.94-2.06-.94-.94-2.06-.94 2.06-2.06.94zm-11 1L8.5 8.5l.94-2.06 2.06-.94-2.06-.94L8.5 2.5l-.94 2.06-2.06.94zm10 10l.94 2.06.94-2.06 2.06-.94-2.06-.94-.94-2.06-.94 2.06-2.06.94z\"/><path d=\"M17.41 7.96l-1.37-1.37c-.4-.4-.92-.59-1.43-.59-.52 0-1.04.2-1.43.59L10.3 9.45l-7.72 7.72c-.78.78-.78 2.05 0 2.83L4 21.41c.39.39.9.59 1.41.59.51 0 1.02-.2 1.41-.59l7.78-7.78 2.81-2.81c.8-.78.8-2.07 0-2.86zM5.41 20L4 18.59l7.72-7.72 1.47 1.35L5.41 20z\"/>\n",
              "  </svg>\n",
              "      </button>\n",
              "      \n",
              "  <style>\n",
              "    .colab-df-container {\n",
              "      display:flex;\n",
              "      flex-wrap:wrap;\n",
              "      gap: 12px;\n",
              "    }\n",
              "\n",
              "    .colab-df-convert {\n",
              "      background-color: #E8F0FE;\n",
              "      border: none;\n",
              "      border-radius: 50%;\n",
              "      cursor: pointer;\n",
              "      display: none;\n",
              "      fill: #1967D2;\n",
              "      height: 32px;\n",
              "      padding: 0 0 0 0;\n",
              "      width: 32px;\n",
              "    }\n",
              "\n",
              "    .colab-df-convert:hover {\n",
              "      background-color: #E2EBFA;\n",
              "      box-shadow: 0px 1px 2px rgba(60, 64, 67, 0.3), 0px 1px 3px 1px rgba(60, 64, 67, 0.15);\n",
              "      fill: #174EA6;\n",
              "    }\n",
              "\n",
              "    [theme=dark] .colab-df-convert {\n",
              "      background-color: #3B4455;\n",
              "      fill: #D2E3FC;\n",
              "    }\n",
              "\n",
              "    [theme=dark] .colab-df-convert:hover {\n",
              "      background-color: #434B5C;\n",
              "      box-shadow: 0px 1px 3px 1px rgba(0, 0, 0, 0.15);\n",
              "      filter: drop-shadow(0px 1px 2px rgba(0, 0, 0, 0.3));\n",
              "      fill: #FFFFFF;\n",
              "    }\n",
              "  </style>\n",
              "\n",
              "      <script>\n",
              "        const buttonEl =\n",
              "          document.querySelector('#df-c87a3243-eebe-40d4-9427-40e34b232b92 button.colab-df-convert');\n",
              "        buttonEl.style.display =\n",
              "          google.colab.kernel.accessAllowed ? 'block' : 'none';\n",
              "\n",
              "        async function convertToInteractive(key) {\n",
              "          const element = document.querySelector('#df-c87a3243-eebe-40d4-9427-40e34b232b92');\n",
              "          const dataTable =\n",
              "            await google.colab.kernel.invokeFunction('convertToInteractive',\n",
              "                                                     [key], {});\n",
              "          if (!dataTable) return;\n",
              "\n",
              "          const docLinkHtml = 'Like what you see? Visit the ' +\n",
              "            '<a target=\"_blank\" href=https://colab.research.google.com/notebooks/data_table.ipynb>data table notebook</a>'\n",
              "            + ' to learn more about interactive tables.';\n",
              "          element.innerHTML = '';\n",
              "          dataTable['output_type'] = 'display_data';\n",
              "          await google.colab.output.renderOutput(dataTable, element);\n",
              "          const docLink = document.createElement('div');\n",
              "          docLink.innerHTML = docLinkHtml;\n",
              "          element.appendChild(docLink);\n",
              "        }\n",
              "      </script>\n",
              "    </div>\n",
              "  </div>\n",
              "  "
            ]
          },
          "metadata": {},
          "execution_count": 104
        }
      ]
    },
    {
      "cell_type": "code",
      "source": [
        "# Number of features\n",
        "len(dataset.feature_names) "
      ],
      "metadata": {
        "colab": {
          "base_uri": "https://localhost:8080/"
        },
        "id": "LR8KniegZ1Tq",
        "outputId": "dc2484fb-3e6e-40a6-b286-d153644d5bd1"
      },
      "execution_count": null,
      "outputs": [
        {
          "output_type": "execute_result",
          "data": {
            "text/plain": [
              "30"
            ]
          },
          "metadata": {},
          "execution_count": 105
        }
      ]
    },
    {
      "cell_type": "code",
      "source": [
        "len(df['mean area'])"
      ],
      "metadata": {
        "colab": {
          "base_uri": "https://localhost:8080/"
        },
        "id": "s_XEhZQ8aRxP",
        "outputId": "4bc4f3fc-fd92-49d2-dd22-579a2592ca27"
      },
      "execution_count": null,
      "outputs": [
        {
          "output_type": "execute_result",
          "data": {
            "text/plain": [
              "569"
            ]
          },
          "metadata": {},
          "execution_count": 106
        }
      ]
    },
    {
      "cell_type": "code",
      "source": [
        "mean_above_700 = df[df['mean area']>700] "
      ],
      "metadata": {
        "id": "tLzhy420aBZw"
      },
      "execution_count": null,
      "outputs": []
    },
    {
      "cell_type": "code",
      "source": [
        "#Observations having mean area greater than 700\n",
        "len(mean_above_700)"
      ],
      "metadata": {
        "colab": {
          "base_uri": "https://localhost:8080/"
        },
        "id": "R98ZDjyRaNQs",
        "outputId": "2ca8bbef-b229-48b8-ab95-5ae764e9ec97"
      },
      "execution_count": null,
      "outputs": [
        {
          "output_type": "execute_result",
          "data": {
            "text/plain": [
              "171"
            ]
          },
          "metadata": {},
          "execution_count": 108
        }
      ]
    },
    {
      "cell_type": "code",
      "source": [
        "len(df['target'])"
      ],
      "metadata": {
        "colab": {
          "base_uri": "https://localhost:8080/"
        },
        "id": "tq-TNXqsbepf",
        "outputId": "77ed4840-6a92-4ee0-83aa-70218f6c3413"
      },
      "execution_count": null,
      "outputs": [
        {
          "output_type": "execute_result",
          "data": {
            "text/plain": [
              "569"
            ]
          },
          "metadata": {},
          "execution_count": 109
        }
      ]
    },
    {
      "cell_type": "code",
      "source": [
        "malignant = df[df['target']== 'malignant']"
      ],
      "metadata": {
        "id": "O04l33-BbjlA"
      },
      "execution_count": null,
      "outputs": []
    },
    {
      "cell_type": "code",
      "source": [
        "# Number of patients tested malignant\n",
        "len(malignant)"
      ],
      "metadata": {
        "colab": {
          "base_uri": "https://localhost:8080/"
        },
        "id": "N4u8R3Qab2AN",
        "outputId": "b5dcf849-b6b8-4d82-8dc6-d20ee3f01cf4"
      },
      "execution_count": null,
      "outputs": [
        {
          "output_type": "execute_result",
          "data": {
            "text/plain": [
              "212"
            ]
          },
          "metadata": {},
          "execution_count": 111
        }
      ]
    },
    {
      "cell_type": "code",
      "source": [
        "benign = df[df['target']== 'benign']"
      ],
      "metadata": {
        "id": "xBRTRiCXcCyv"
      },
      "execution_count": null,
      "outputs": []
    },
    {
      "cell_type": "code",
      "source": [
        "#Number of patients tested benign\n",
        "len(benign)"
      ],
      "metadata": {
        "colab": {
          "base_uri": "https://localhost:8080/"
        },
        "id": "99sC9rsfcGhQ",
        "outputId": "b86f0374-ba5c-4543-cc23-01c0041dc9c6"
      },
      "execution_count": null,
      "outputs": [
        {
          "output_type": "execute_result",
          "data": {
            "text/plain": [
              "357"
            ]
          },
          "metadata": {},
          "execution_count": 113
        }
      ]
    },
    {
      "cell_type": "markdown",
      "metadata": {
        "id": "YyqBEQXGq-B0"
      },
      "source": [
        "### Splitting the data\n",
        "It is best practice to have a training set (from which there is a rotating validation subset) and a test set. Our aim here is to (eventually) obtain the best accuracy we can on the test set (we'll do all our tuning on the training/validation sets, however.) \n",
        "\n",
        "**Split the dataset** into a train and a test set **\"70:30\"**, use **``random_state=0``**. The test set is set aside (untouched) for final evaluation, once hyperparameter optimization is complete. **[0.5]**"
      ]
    },
    {
      "cell_type": "code",
      "metadata": {
        "id": "A5equ6ied8eg"
      },
      "source": [
        "#Splitting the data\n",
        "from sklearn.model_selection import train_test_split\n",
        "X = dataset.data\n",
        "y = dataset.target\n",
        "X_train, X_test, y_train, y_test = train_test_split(X, y, test_size=0.30, random_state=0)"
      ],
      "execution_count": null,
      "outputs": []
    },
    {
      "cell_type": "code",
      "source": [
        "print(len(X_train))\n",
        "print(len(X_test))"
      ],
      "metadata": {
        "colab": {
          "base_uri": "https://localhost:8080/"
        },
        "id": "7H8SDX_Ac5wz",
        "outputId": "9543328a-3acb-413e-eb00-367a236397e0"
      },
      "execution_count": null,
      "outputs": [
        {
          "output_type": "stream",
          "name": "stdout",
          "text": [
            "398\n",
            "171\n"
          ]
        }
      ]
    },
    {
      "cell_type": "markdown",
      "metadata": {
        "id": "U_jNtkfce9Eg"
      },
      "source": [
        "### Effect of Standardization (Visual)\n",
        "\n",
        "\n"
      ]
    },
    {
      "cell_type": "code",
      "metadata": {
        "id": "J684emSV8mJd",
        "colab": {
          "base_uri": "https://localhost:8080/",
          "height": 369
        },
        "outputId": "62759ec3-56e0-41fb-e6a7-fc88a5c59992"
      },
      "source": [
        "import seaborn as sns\n",
        "g = sns.lmplot(x = 'worst smoothness', y = 'worst fractal dimension', data = df, hue='target')"
      ],
      "execution_count": null,
      "outputs": [
        {
          "output_type": "display_data",
          "data": {
            "text/plain": [
              "<Figure size 446.625x360 with 1 Axes>"
            ],
            "image/png": "[encoded data removed]"
          },
          "metadata": {
            "needs_background": "light"
          }
        }
      ]
    },
    {
      "cell_type": "code",
      "source": [
        "g = sns.lmplot(x = 'mean area', y = 'mean symmetry', data = df, hue='target')"
      ],
      "metadata": {
        "colab": {
          "base_uri": "https://localhost:8080/",
          "height": 369
        },
        "id": "FdBBD19NefbV",
        "outputId": "c107b5ec-36a7-481d-c67a-0f9f96bbc4de"
      },
      "execution_count": null,
      "outputs": [
        {
          "output_type": "display_data",
          "data": {
            "text/plain": [
              "<Figure size 446.625x360 with 1 Axes>"
            ],
            "image/png": "[encoded data removed]"
          },
          "metadata": {
            "needs_background": "light"
          }
        }
      ]
    },
    {
      "cell_type": "code",
      "source": [
        "df.boxplot(column=['mean area', 'mean symmetry'])"
      ],
      "metadata": {
        "colab": {
          "base_uri": "https://localhost:8080/",
          "height": 283
        },
        "id": "5g8NS9yow_CB",
        "outputId": "a818ea0d-075e-492f-8fa2-41172bbe2769"
      },
      "execution_count": null,
      "outputs": [
        {
          "output_type": "execute_result",
          "data": {
            "text/plain": [
              "<matplotlib.axes._subplots.AxesSubplot at 0x7fdb0ced0d50>"
            ]
          },
          "metadata": {},
          "execution_count": 118
        },
        {
          "output_type": "display_data",
          "data": {
            "text/plain": [
              "<Figure size 432x288 with 1 Axes>"
            ],
            "image/png": "[encoded data removed]"
          },
          "metadata": {
            "needs_background": "light"
          }
        }
      ]
    },
    {
      "cell_type": "code",
      "source": [
        "#Standardising the features\n",
        "from pandas._libs import index\n",
        "from sklearn.preprocessing import StandardScaler\n",
        "scaler = StandardScaler()\n",
        "data = df.drop(columns='target')\n",
        "new_data = scaler.fit_transform(data)\n",
        "new_data_array = np.array(new_data)\n",
        "new_df = pd.DataFrame(data = np.c_[new_data_array,df['target']], columns=np.append(dataset['feature_names'],['target']))"
      ],
      "metadata": {
        "id": "WHDX20HEeyA8"
      },
      "execution_count": null,
      "outputs": []
    },
    {
      "cell_type": "code",
      "source": [
        "new_df['mean area']= new_df['mean area'].astype('float64')\n",
        "new_df['mean symmetry']= new_df['mean symmetry'].astype('float64') "
      ],
      "metadata": {
        "id": "NtMqLvwduPqz"
      },
      "execution_count": null,
      "outputs": []
    },
    {
      "cell_type": "code",
      "source": [
        "g = sns.lmplot(x = 'mean area', y = 'mean symmetry' ,data = new_df, hue='target')"
      ],
      "metadata": {
        "colab": {
          "base_uri": "https://localhost:8080/",
          "height": 369
        },
        "id": "9qHU76AIgMIp",
        "outputId": "7f0dab7c-ac8d-4d71-8d76-1143427fcfd1"
      },
      "execution_count": null,
      "outputs": [
        {
          "output_type": "display_data",
          "data": {
            "text/plain": [
              "<Figure size 446.625x360 with 1 Axes>"
            ],
            "image/png": "[encoded data removed]"
          },
          "metadata": {
            "needs_background": "light"
          }
        }
      ]
    },
    {
      "cell_type": "code",
      "source": [
        "new_df.boxplot(column=['mean area', 'mean symmetry'])"
      ],
      "metadata": {
        "colab": {
          "base_uri": "https://localhost:8080/",
          "height": 283
        },
        "id": "MEGjU-CFxybh",
        "outputId": "3771f37d-cd8b-4b0f-b545-613331506d87"
      },
      "execution_count": null,
      "outputs": [
        {
          "output_type": "execute_result",
          "data": {
            "text/plain": [
              "<matplotlib.axes._subplots.AxesSubplot at 0x7fdb0ff7c4d0>"
            ]
          },
          "metadata": {},
          "execution_count": 122
        },
        {
          "output_type": "display_data",
          "data": {
            "text/plain": [
              "<Figure size 432x288 with 1 Axes>"
            ],
            "image/png": "[encoded data removed]"
          },
          "metadata": {
            "needs_background": "light"
          }
        }
      ]
    },
    {
      "cell_type": "markdown",
      "source": [
        "Both distributions of the two features appears to be the same when plotted using the seaborn.lmplot. But, when visualized using box plot we can see that the scales of the two features are almost the same after standardisation. This makes both the features equally important. "
      ],
      "metadata": {
        "id": "jjMc72cBKWyp"
      }
    },
    {
      "cell_type": "markdown",
      "metadata": {
        "id": "aBmo0-W1yZFs"
      },
      "source": [
        "## Part 2: KNN Classifier without Standardization\n",
        "\n",
        "\n",
        "\n"
      ]
    },
    {
      "cell_type": "code",
      "metadata": {
        "id": "cyEV-mVSAMaV",
        "colab": {
          "base_uri": "https://localhost:8080/",
          "height": 313
        },
        "outputId": "0c1f0ebe-f704-4a37-bf2a-63f4a9a61447"
      },
      "source": [
        "#KNN Classifier\n",
        "from sklearn.neighbors import KNeighborsClassifier\n",
        "from sklearn.model_selection import cross_val_score\n",
        "import matplotlib.pyplot as plt\n",
        "%matplotlib inline\n",
        "\n",
        "k_range = range(1,100)\n",
        "k_scores = []\n",
        "\n",
        "for k in k_range:\n",
        "  knn = KNeighborsClassifier(n_neighbors=k)\n",
        "  scores = cross_val_score(knn, X_train, y_train, cv = 5, scoring = 'accuracy')\n",
        "  k_scores.append(scores.mean())\n",
        "\n",
        "plt.plot(k_range, k_scores)\n",
        "plt.title('K Value vs Accuracy')\n",
        "plt.xlabel('Value of K')\n",
        "plt.ylabel('Cross-Validation Accuracy')\n",
        "\n"
      ],
      "execution_count": null,
      "outputs": [
        {
          "output_type": "execute_result",
          "data": {
            "text/plain": [
              "Text(0, 0.5, 'Cross-Validation Accuracy')"
            ]
          },
          "metadata": {},
          "execution_count": 123
        },
        {
          "output_type": "display_data",
          "data": {
            "text/plain": [
              "<Figure size 432x288 with 1 Axes>"
            ],
            "image/png": "[encoded data removed]"
          },
          "metadata": {
            "needs_background": "light"
          }
        }
      ]
    },
    {
      "cell_type": "code",
      "source": [
        "# Highest cross validation accuracy and Best K\n",
        "max_value = max(k_scores)\n",
        "print(\"Highest Cross Validation Accuracy -\",max_value)\n",
        "print(\"Best K - \",[index for index, item in enumerate(k_scores) if item == max_value])"
      ],
      "metadata": {
        "colab": {
          "base_uri": "https://localhost:8080/"
        },
        "id": "yuBdYuSN3cnD",
        "outputId": "51de1219-fde6-4e8b-bfca-3871c89fc7cd"
      },
      "execution_count": null,
      "outputs": [
        {
          "output_type": "stream",
          "name": "stdout",
          "text": [
            "Highest Cross Validation Accuracy - 0.9346518987341772\n",
            "Best K -  [9, 10]\n"
          ]
        }
      ]
    },
    {
      "cell_type": "code",
      "source": [
        "from sklearn.model_selection import validation_curve\n",
        "\n",
        "train_score, test_score = validation_curve(knn, X_train, y_train,param_name = \"n_neighbors\",param_range = k_range,cv = 5, scoring = \"accuracy\")\n",
        " \n",
        "mean_train_score = np.mean(train_score, axis = 1)\n",
        "mean_test_score = np.mean(test_score, axis = 1)\n",
        "\n",
        "plt.plot(k_range, mean_train_score, label = \"Training Score\", color = 'b')\n",
        "plt.plot(k_range, mean_test_score, label = \"Cross Validation Score\", color = 'g')\n",
        "\n",
        "plt.title(\"Validation Curve with KNN Classifier\")\n",
        "plt.xlabel(\"Number of Neighbours\")\n",
        "plt.ylabel(\"Accuracy\")\n",
        "plt.tight_layout()\n",
        "plt.legend(loc = 'best')\n",
        " "
      ],
      "metadata": {
        "colab": {
          "base_uri": "https://localhost:8080/",
          "height": 315
        },
        "id": "b5mGTRnZ6Z3U",
        "outputId": "9486dcd8-b4b2-4278-86e4-2e065df4bfe8"
      },
      "execution_count": null,
      "outputs": [
        {
          "output_type": "execute_result",
          "data": {
            "text/plain": [
              "<matplotlib.legend.Legend at 0x7fdb0cd3aa10>"
            ]
          },
          "metadata": {},
          "execution_count": 125
        },
        {
          "output_type": "display_data",
          "data": {
            "text/plain": [
              "<Figure size 432x288 with 1 Axes>"
            ],
            "image/png": "[encoded data removed]"
          },
          "metadata": {
            "needs_background": "light"
          }
        }
      ]
    },
    {
      "cell_type": "markdown",
      "source": [
        "K values between 0 to 5 leads to overfitting case (Accuracy in the training set is almost 100%). K values between 5 to 20 has high accuracy for both training and validation set. After this range the accuracy decreases. "
      ],
      "metadata": {
        "id": "RvD6lfsLLxAp"
      }
    },
    {
      "cell_type": "markdown",
      "metadata": {
        "id": "VCyFm5S3srCO"
      },
      "source": [
        "## Part 3: Feature Selection\n",
        "\n",
        "  \n",
        "  \n",
        "\n",
        "\n",
        "\n",
        "\n",
        "\n",
        "\n",
        "\n",
        " "
      ]
    },
    {
      "cell_type": "code",
      "source": [
        "X_train.shape[1]"
      ],
      "metadata": {
        "colab": {
          "base_uri": "https://localhost:8080/"
        },
        "id": "nmab9YZbRBbS",
        "outputId": "c8265a89-2723-4d28-8311-27ca9bd00bf4"
      },
      "execution_count": null,
      "outputs": [
        {
          "output_type": "execute_result",
          "data": {
            "text/plain": [
              "30"
            ]
          },
          "metadata": {},
          "execution_count": 126
        }
      ]
    },
    {
      "cell_type": "code",
      "metadata": {
        "id": "oiFUWWnE0QVc"
      },
      "source": [
        "#Feature Selection using DecisionTreeClassifier\n",
        "from sklearn.tree import DecisionTreeClassifier\n",
        "from sklearn.neighbors import KNeighborsClassifier\n",
        "from sklearn.model_selection import cross_val_score\n",
        "import matplotlib.pyplot as plt\n",
        "%matplotlib inline\n",
        "\n",
        "def knn_full_feat(X,y):\n",
        "  k_range = range(1,100)\n",
        "  k_scores = []\n",
        "  feature = []\n",
        "  for k in k_range:\n",
        "    knn = KNeighborsClassifier(n_neighbors=k)\n",
        "    scores = cross_val_score(knn, X, y, cv = 5, scoring = 'accuracy')\n",
        "    k_scores.append(scores.mean())\n",
        "\n",
        "  max_value = max(k_scores)\n",
        "  print(\"cv_score\",max_value)\n",
        "  k_list = list()\n",
        "  k_list = [index for index, item in enumerate(k_scores) if item == max_value]\n",
        "  k_value = k_list[0]\n",
        "  return max_value, k_value, feature, X.shape[1]\n",
        "\n",
        "def Feature_selector (X , y , tr=0.95):\n",
        "  k_value_list = list()\n",
        "  cv_score_list = list()\n",
        "  feat_rem_list = list()\n",
        "  feat_count = list()\n",
        "  features = np.array(dataset.feature_names)\n",
        "\n",
        "  full_feat_cv_score, k_value, feature, feat = knn_full_feat(X,y)\n",
        "  k_value_list.append(k_value)\n",
        "  cv_score_list.append(full_feat_cv_score)\n",
        "  feat_rem_list.append(feature)\n",
        "  feat_count.append(feat)\n",
        "\n",
        "  while(X.shape[1] > 1) :\n",
        "    keys = list()\n",
        "    values = list()\n",
        "    feat_dict = dict()\n",
        "    rm_list = list()\n",
        "    feat_list = list()\n",
        "    feat_min_list = list()\n",
        "\n",
        "    dt = DecisionTreeClassifier()\n",
        "    dt.fit(X, y)\n",
        "    importance = dt.feature_importances_\n",
        "    \n",
        "    for i,v in enumerate(importance):\n",
        "      keys.append(i)\n",
        "      values.append(v)\n",
        "      print('Feature: %0d, Score: %.5f' % (i,v))\n",
        "    \n",
        "    for i in range(len(keys)):\n",
        "      feat_dict[keys[i]] = values[i]\n",
        "    \n",
        "    for key,value in feat_dict.items():\n",
        "      if value == min(feat_dict.values()):\n",
        "          rm_list.append(key)\n",
        "      else:\n",
        "          feat_list.append(key)\n",
        "\n",
        "    X = np.delete(X, rm_list, 1)\n",
        "    #print(rm_list)\n",
        "    for i in rm_list:\n",
        "      #print(len(features))\n",
        "      feat_min_list.append(features[i])\n",
        "    features = np.delete(features,rm_list)\n",
        "    #print(features)\n",
        "    print(\"X changed shape:\",X.shape)\n",
        "    k_range = range(1,100)\n",
        "    k_scores = []\n",
        "\n",
        "    for k in k_range:\n",
        "      knn = KNeighborsClassifier(n_neighbors=k)\n",
        "      scores = cross_val_score(knn, X, y, cv = 5, scoring = 'accuracy')\n",
        "      k_scores.append(scores.mean())\n",
        "\n",
        "    max_value = max(k_scores)\n",
        "    print(\"cv_score\",max_value)\n",
        "    k_list = list()\n",
        "    k_list = [index for index, item in enumerate(k_scores) if item == max_value]\n",
        "    k_value = k_list[0]\n",
        "    k_value_list.append(k_value)\n",
        "    cv_score_list.append(max_value)\n",
        "    feat_rem_list.append(feat_min_list)\n",
        "    feat_count.append(X.shape[1])\n",
        "\n",
        "    if (max_value < 0.95 * full_feat_cv_score):\n",
        "      break\n",
        "\n",
        "  return k_value_list, cv_score_list, feat_rem_list, feat_count\n"
      ],
      "execution_count": null,
      "outputs": []
    },
    {
      "cell_type": "code",
      "source": [
        "k_value_list, cv_score_list, feat_list, feat_count = Feature_selector(X_train,y_train)"
      ],
      "metadata": {
        "colab": {
          "base_uri": "https://localhost:8080/"
        },
        "id": "MXMrxXExJfJW",
        "outputId": "2014d805-885e-486c-f8a1-300cf82bbd1c"
      },
      "execution_count": null,
      "outputs": [
        {
          "output_type": "stream",
          "name": "stdout",
          "text": [
            "cv_score 0.9346518987341772\n",
            "Feature: 0, Score: 0.00000\n",
            "Feature: 1, Score: 0.00000\n",
            "Feature: 2, Score: 0.01016\n",
            "Feature: 3, Score: 0.01584\n",
            "Feature: 4, Score: 0.00000\n",
            "Feature: 5, Score: 0.00000\n",
            "Feature: 6, Score: 0.00000\n",
            "Feature: 7, Score: 0.00000\n",
            "Feature: 8, Score: 0.01815\n",
            "Feature: 9, Score: 0.00000\n",
            "Feature: 10, Score: 0.00503\n",
            "Feature: 11, Score: 0.00000\n",
            "Feature: 12, Score: 0.00000\n",
            "Feature: 13, Score: 0.04749\n",
            "Feature: 14, Score: 0.00919\n",
            "Feature: 15, Score: 0.00000\n",
            "Feature: 16, Score: 0.00000\n",
            "Feature: 17, Score: 0.01609\n",
            "Feature: 18, Score: 0.00000\n",
            "Feature: 19, Score: 0.00139\n",
            "Feature: 20, Score: 0.00000\n",
            "Feature: 21, Score: 0.01068\n",
            "Feature: 22, Score: 0.00000\n",
            "Feature: 23, Score: 0.08615\n",
            "Feature: 24, Score: 0.00000\n",
            "Feature: 25, Score: 0.00990\n",
            "Feature: 26, Score: 0.02748\n",
            "Feature: 27, Score: 0.72811\n",
            "Feature: 28, Score: 0.01430\n",
            "Feature: 29, Score: 0.00000\n",
            "X changed shape: (398, 14)\n",
            "cv_score 0.9346518987341772\n",
            "Feature: 0, Score: 0.00000\n",
            "Feature: 1, Score: 0.00000\n",
            "Feature: 2, Score: 0.01815\n",
            "Feature: 3, Score: 0.00503\n",
            "Feature: 4, Score: 0.05740\n",
            "Feature: 5, Score: 0.00919\n",
            "Feature: 6, Score: 0.00000\n",
            "Feature: 7, Score: 0.00139\n",
            "Feature: 8, Score: 0.02784\n",
            "Feature: 9, Score: 0.09632\n",
            "Feature: 10, Score: 0.01584\n",
            "Feature: 11, Score: 0.02641\n",
            "Feature: 12, Score: 0.72811\n",
            "Feature: 13, Score: 0.01430\n",
            "X changed shape: (398, 11)\n",
            "cv_score 0.9145569620253164\n",
            "Feature: 0, Score: 0.01815\n",
            "Feature: 1, Score: 0.00503\n",
            "Feature: 2, Score: 0.04749\n",
            "Feature: 3, Score: 0.00139\n",
            "Feature: 4, Score: 0.01016\n",
            "Feature: 5, Score: 0.01987\n",
            "Feature: 6, Score: 0.09605\n",
            "Feature: 7, Score: 0.01584\n",
            "Feature: 8, Score: 0.04358\n",
            "Feature: 9, Score: 0.72811\n",
            "Feature: 10, Score: 0.01430\n",
            "X changed shape: (398, 10)\n",
            "cv_score 0.9145569620253164\n",
            "Feature: 0, Score: 0.01815\n",
            "Feature: 1, Score: 0.00503\n",
            "Feature: 2, Score: 0.04749\n",
            "Feature: 3, Score: 0.01171\n",
            "Feature: 4, Score: 0.02058\n",
            "Feature: 5, Score: 0.08615\n",
            "Feature: 6, Score: 0.01584\n",
            "Feature: 7, Score: 0.04342\n",
            "Feature: 8, Score: 0.73731\n",
            "Feature: 9, Score: 0.01430\n",
            "X changed shape: (398, 9)\n",
            "cv_score 0.9145569620253164\n",
            "Feature: 0, Score: 0.01815\n",
            "Feature: 1, Score: 0.05193\n",
            "Feature: 2, Score: 0.00139\n",
            "Feature: 3, Score: 0.02058\n",
            "Feature: 4, Score: 0.09632\n",
            "Feature: 5, Score: 0.01584\n",
            "Feature: 6, Score: 0.02748\n",
            "Feature: 7, Score: 0.72811\n",
            "Feature: 8, Score: 0.04019\n",
            "X changed shape: (398, 8)\n",
            "cv_score 0.9145569620253164\n",
            "Feature: 0, Score: 0.01815\n",
            "Feature: 1, Score: 0.05193\n",
            "Feature: 2, Score: 0.02807\n",
            "Feature: 3, Score: 0.10683\n",
            "Feature: 4, Score: 0.00000\n",
            "Feature: 5, Score: 0.02007\n",
            "Feature: 6, Score: 0.72811\n",
            "Feature: 7, Score: 0.04683\n",
            "X changed shape: (398, 7)\n",
            "cv_score 0.9145569620253164\n",
            "Feature: 0, Score: 0.01815\n",
            "Feature: 1, Score: 0.05193\n",
            "Feature: 2, Score: 0.01091\n",
            "Feature: 3, Score: 0.11658\n",
            "Feature: 4, Score: 0.02748\n",
            "Feature: 5, Score: 0.72811\n",
            "Feature: 6, Score: 0.04683\n",
            "X changed shape: (398, 6)\n",
            "cv_score 0.9145569620253164\n",
            "Feature: 0, Score: 0.01815\n",
            "Feature: 1, Score: 0.05193\n",
            "Feature: 2, Score: 0.11696\n",
            "Feature: 3, Score: 0.02748\n",
            "Feature: 4, Score: 0.72811\n",
            "Feature: 5, Score: 0.05736\n",
            "X changed shape: (398, 5)\n",
            "cv_score 0.9145569620253164\n",
            "Feature: 0, Score: 0.05193\n",
            "Feature: 1, Score: 0.11711\n",
            "Feature: 2, Score: 0.03833\n",
            "Feature: 3, Score: 0.73527\n",
            "Feature: 4, Score: 0.05736\n",
            "X changed shape: (398, 4)\n",
            "cv_score 0.9145569620253164\n",
            "Feature: 0, Score: 0.05244\n",
            "Feature: 1, Score: 0.11564\n",
            "Feature: 2, Score: 0.79142\n",
            "Feature: 3, Score: 0.04050\n",
            "X changed shape: (398, 3)\n",
            "cv_score 0.9145569620253164\n",
            "Feature: 0, Score: 0.08400\n",
            "Feature: 1, Score: 0.11886\n",
            "Feature: 2, Score: 0.79715\n",
            "X changed shape: (398, 2)\n",
            "cv_score 0.9145886075949367\n",
            "Feature: 0, Score: 0.17407\n",
            "Feature: 1, Score: 0.82593\n",
            "X changed shape: (398, 1)\n",
            "cv_score 0.9246202531645569\n"
          ]
        }
      ]
    },
    {
      "cell_type": "code",
      "source": [
        "feat_list"
      ],
      "metadata": {
        "colab": {
          "base_uri": "https://localhost:8080/"
        },
        "id": "kwQWLEj1myai",
        "outputId": "893c6364-8970-4a3c-8a38-9c3b0c3387f4"
      },
      "execution_count": null,
      "outputs": [
        {
          "output_type": "execute_result",
          "data": {
            "text/plain": [
              "[[],\n",
              " ['mean radius',\n",
              "  'mean texture',\n",
              "  'mean smoothness',\n",
              "  'mean compactness',\n",
              "  'mean concavity',\n",
              "  'mean concave points',\n",
              "  'mean fractal dimension',\n",
              "  'texture error',\n",
              "  'perimeter error',\n",
              "  'compactness error',\n",
              "  'concavity error',\n",
              "  'symmetry error',\n",
              "  'worst radius',\n",
              "  'worst perimeter',\n",
              "  'worst smoothness',\n",
              "  'worst fractal dimension'],\n",
              " ['mean perimeter', 'mean area', 'concave points error'],\n",
              " ['smoothness error'],\n",
              " ['radius error'],\n",
              " ['fractal dimension error'],\n",
              " ['worst compactness'],\n",
              " ['worst texture'],\n",
              " ['mean symmetry'],\n",
              " ['worst concavity'],\n",
              " ['worst symmetry'],\n",
              " ['area error'],\n",
              " ['worst area']]"
            ]
          },
          "metadata": {},
          "execution_count": 145
        }
      ]
    },
    {
      "cell_type": "code",
      "source": [
        "print(len(k_value_list))\n",
        "print(len(cv_score_list))\n",
        "print(len(feat_count))"
      ],
      "metadata": {
        "colab": {
          "base_uri": "https://localhost:8080/"
        },
        "id": "zWBe3tzcht66",
        "outputId": "fd4f8b62-ce37-4d9b-c66b-be3d45f67dc3"
      },
      "execution_count": null,
      "outputs": [
        {
          "output_type": "stream",
          "name": "stdout",
          "text": [
            "13\n",
            "13\n",
            "13\n"
          ]
        }
      ]
    },
    {
      "cell_type": "code",
      "source": [
        "print(k_value_list)\n",
        "print(cv_score_list)\n",
        "print(feat_count)"
      ],
      "metadata": {
        "colab": {
          "base_uri": "https://localhost:8080/"
        },
        "id": "ldLapmqT3iUf",
        "outputId": "81a554fe-0591-4831-d2dd-7e337a522a51"
      },
      "execution_count": null,
      "outputs": [
        {
          "output_type": "stream",
          "name": "stdout",
          "text": [
            "[9, 9, 60, 60, 60, 60, 60, 63, 63, 63, 63, 33, 33]\n",
            "[0.9346518987341772, 0.9346518987341772, 0.9145569620253164, 0.9145569620253164, 0.9145569620253164, 0.9145569620253164, 0.9145569620253164, 0.9145569620253164, 0.9145569620253164, 0.9145569620253164, 0.9145569620253164, 0.9145886075949367, 0.9246202531645569]\n",
            "[30, 14, 11, 10, 9, 8, 7, 6, 5, 4, 3, 2, 1]\n"
          ]
        }
      ]
    },
    {
      "cell_type": "code",
      "source": [
        "np_array = np.array(cv_score_list)\n",
        "np_round_to = np.around(np_array, 2)\n",
        "cv_score = list(np_round_to)"
      ],
      "metadata": {
        "id": "uKk9prLkkU6j"
      },
      "execution_count": null,
      "outputs": []
    },
    {
      "cell_type": "code",
      "source": [
        "cv_score"
      ],
      "metadata": {
        "colab": {
          "base_uri": "https://localhost:8080/"
        },
        "id": "1rSIqqsQlAq5",
        "outputId": "2d033b0b-2115-4f6d-fef0-5dd030991322"
      },
      "execution_count": null,
      "outputs": [
        {
          "output_type": "execute_result",
          "data": {
            "text/plain": [
              "[0.93, 0.93, 0.91, 0.91, 0.91, 0.91, 0.91, 0.91, 0.91, 0.91, 0.91, 0.91, 0.92]"
            ]
          },
          "metadata": {},
          "execution_count": 132
        }
      ]
    },
    {
      "cell_type": "code",
      "source": [
        "features = [str(item) for item in feat_count]"
      ],
      "metadata": {
        "id": "PA5Higr7qotI"
      },
      "execution_count": null,
      "outputs": []
    },
    {
      "cell_type": "code",
      "source": [
        "features"
      ],
      "metadata": {
        "colab": {
          "base_uri": "https://localhost:8080/"
        },
        "id": "Vskm5zxFqunW",
        "outputId": "66fefcff-0255-48fb-8fb5-4430d780b65a"
      },
      "execution_count": null,
      "outputs": [
        {
          "output_type": "execute_result",
          "data": {
            "text/plain": [
              "['30', '14', '11', '10', '9', '8', '7', '6', '5', '4', '3', '2', '1']"
            ]
          },
          "metadata": {},
          "execution_count": 134
        }
      ]
    },
    {
      "cell_type": "code",
      "source": [
        "plt.plot (features, cv_score, marker='o')\n",
        "plt.title(\"Number of features VS Accurary\")\n",
        "plt.xlabel(\"Number of features\")\n",
        "plt.ylabel(\"Accuracy\")"
      ],
      "metadata": {
        "colab": {
          "base_uri": "https://localhost:8080/",
          "height": 313
        },
        "id": "lNHku9asj7dy",
        "outputId": "1b4a86c8-06b1-4bc0-b37f-4da9825b400c"
      },
      "execution_count": null,
      "outputs": [
        {
          "output_type": "execute_result",
          "data": {
            "text/plain": [
              "Text(0, 0.5, 'Accuracy')"
            ]
          },
          "metadata": {},
          "execution_count": 135
        },
        {
          "output_type": "display_data",
          "data": {
            "text/plain": [
              "<Figure size 432x288 with 1 Axes>"
            ],
            "image/png": "[encoded data removed]"
          },
          "metadata": {
            "needs_background": "light"
          }
        }
      ]
    },
    {
      "cell_type": "markdown",
      "source": [
        "The number of essential features for the classification is 14. The reason is that some features doesn't contribute that much to the classification, the presence of 14 features yeilds the highest accuracy and gives us the best K value. "
      ],
      "metadata": {
        "id": "vQovF9RSMugL"
      }
    },
    {
      "cell_type": "code",
      "source": [
        "plt.plot (features, k_value_list, marker = 'o')\n",
        "plt.title(\"Number of features VS K value\")\n",
        "plt.xlabel(\"Number of features\")\n",
        "plt.ylabel(\"K value\")"
      ],
      "metadata": {
        "colab": {
          "base_uri": "https://localhost:8080/",
          "height": 313
        },
        "id": "gke5ls6pmZEU",
        "outputId": "af6655ba-a314-4b6b-89c9-9356ddc48402"
      },
      "execution_count": null,
      "outputs": [
        {
          "output_type": "execute_result",
          "data": {
            "text/plain": [
              "Text(0, 0.5, 'K value')"
            ]
          },
          "metadata": {},
          "execution_count": 136
        },
        {
          "output_type": "display_data",
          "data": {
            "text/plain": [
              "<Figure size 432x288 with 1 Axes>"
            ],
            "image/png": "[encoded data removed]"
          },
          "metadata": {
            "needs_background": "light"
          }
        }
      ]
    },
    {
      "cell_type": "markdown",
      "metadata": {
        "id": "GTXjb1sWmDZL"
      },
      "source": [
        "## Part 4: Standardization"
      ]
    },
    {
      "cell_type": "code",
      "metadata": {
        "id": "xAwAGR6_2bu3",
        "colab": {
          "base_uri": "https://localhost:8080/"
        },
        "outputId": "6823ec0e-98ec-4344-b3ce-a38e69a0b61c"
      },
      "source": [
        "#Standardising the data\n",
        "X_train_std = scaler.fit_transform(X_train)\n",
        "k_value_std, cv_score_std, feat_list_std, feat_count_std = Feature_selector(X_train_std,y_train)"
      ],
      "execution_count": null,
      "outputs": [
        {
          "output_type": "stream",
          "name": "stdout",
          "text": [
            "cv_score 0.9674367088607594\n",
            "Feature: 0, Score: 0.01016\n",
            "Feature: 1, Score: 0.02636\n",
            "Feature: 2, Score: 0.00000\n",
            "Feature: 3, Score: 0.00000\n",
            "Feature: 4, Score: 0.01609\n",
            "Feature: 5, Score: 0.00000\n",
            "Feature: 6, Score: 0.00503\n",
            "Feature: 7, Score: 0.00000\n",
            "Feature: 8, Score: 0.01815\n",
            "Feature: 9, Score: 0.00000\n",
            "Feature: 10, Score: 0.00000\n",
            "Feature: 11, Score: 0.00000\n",
            "Feature: 12, Score: 0.00000\n",
            "Feature: 13, Score: 0.04749\n",
            "Feature: 14, Score: 0.00139\n",
            "Feature: 15, Score: 0.00000\n",
            "Feature: 16, Score: 0.00000\n",
            "Feature: 17, Score: 0.00000\n",
            "Feature: 18, Score: 0.00000\n",
            "Feature: 19, Score: 0.00000\n",
            "Feature: 20, Score: 0.00000\n",
            "Feature: 21, Score: 0.01068\n",
            "Feature: 22, Score: 0.00000\n",
            "Feature: 23, Score: 0.08615\n",
            "Feature: 24, Score: 0.00000\n",
            "Feature: 25, Score: 0.00000\n",
            "Feature: 26, Score: 0.02616\n",
            "Feature: 27, Score: 0.72811\n",
            "Feature: 28, Score: 0.02421\n",
            "Feature: 29, Score: 0.00000\n",
            "X changed shape: (398, 12)\n",
            "cv_score 0.9649683544303798\n",
            "Feature: 0, Score: 0.01016\n",
            "Feature: 1, Score: 0.01584\n",
            "Feature: 2, Score: 0.00000\n",
            "Feature: 3, Score: 0.02112\n",
            "Feature: 4, Score: 0.01815\n",
            "Feature: 5, Score: 0.04749\n",
            "Feature: 6, Score: 0.00139\n",
            "Feature: 7, Score: 0.01987\n",
            "Feature: 8, Score: 0.08615\n",
            "Feature: 9, Score: 0.02748\n",
            "Feature: 10, Score: 0.72811\n",
            "Feature: 11, Score: 0.02421\n",
            "X changed shape: (398, 11)\n",
            "cv_score 0.9649367088607594\n",
            "Feature: 0, Score: 0.00000\n",
            "Feature: 1, Score: 0.00000\n",
            "Feature: 2, Score: 0.02112\n",
            "Feature: 3, Score: 0.01815\n",
            "Feature: 4, Score: 0.05740\n",
            "Feature: 5, Score: 0.01059\n",
            "Feature: 6, Score: 0.02784\n",
            "Feature: 7, Score: 0.09632\n",
            "Feature: 8, Score: 0.01032\n",
            "Feature: 9, Score: 0.72811\n",
            "Feature: 10, Score: 0.03015\n",
            "X changed shape: (398, 9)\n",
            "cv_score 0.957373417721519\n",
            "Feature: 0, Score: 0.02112\n",
            "Feature: 1, Score: 0.01815\n",
            "Feature: 2, Score: 0.04749\n",
            "Feature: 3, Score: 0.01059\n",
            "Feature: 4, Score: 0.02784\n",
            "Feature: 5, Score: 0.09647\n",
            "Feature: 6, Score: 0.02007\n",
            "Feature: 7, Score: 0.72811\n",
            "Feature: 8, Score: 0.03015\n",
            "X changed shape: (398, 8)\n",
            "cv_score 0.9574367088607595\n",
            "Feature: 0, Score: 0.02112\n",
            "Feature: 1, Score: 0.01815\n",
            "Feature: 2, Score: 0.04749\n",
            "Feature: 3, Score: 0.02807\n",
            "Feature: 4, Score: 0.10683\n",
            "Feature: 5, Score: 0.02007\n",
            "Feature: 6, Score: 0.72811\n",
            "Feature: 7, Score: 0.03015\n",
            "X changed shape: (398, 7)\n",
            "cv_score 0.9649050632911391\n",
            "Feature: 0, Score: 0.02112\n",
            "Feature: 1, Score: 0.05464\n",
            "Feature: 2, Score: 0.02081\n",
            "Feature: 3, Score: 0.10683\n",
            "Feature: 4, Score: 0.02733\n",
            "Feature: 5, Score: 0.72811\n",
            "Feature: 6, Score: 0.04115\n",
            "X changed shape: (398, 6)\n",
            "cv_score 0.9524050632911392\n",
            "Feature: 0, Score: 0.02828\n",
            "Feature: 1, Score: 0.04749\n",
            "Feature: 2, Score: 0.11711\n",
            "Feature: 3, Score: 0.03833\n",
            "Feature: 4, Score: 0.72811\n",
            "Feature: 5, Score: 0.04067\n",
            "X changed shape: (398, 5)\n",
            "cv_score 0.9573417721518986\n",
            "Feature: 0, Score: 0.05193\n",
            "Feature: 1, Score: 0.12411\n",
            "Feature: 2, Score: 0.04417\n",
            "Feature: 3, Score: 0.73912\n",
            "Feature: 4, Score: 0.04067\n",
            "X changed shape: (398, 4)\n",
            "cv_score 0.957373417721519\n",
            "Feature: 0, Score: 0.07041\n",
            "Feature: 1, Score: 0.12264\n",
            "Feature: 2, Score: 0.06074\n",
            "Feature: 3, Score: 0.74621\n",
            "X changed shape: (398, 3)\n",
            "cv_score 0.9572784810126581\n",
            "Feature: 0, Score: 0.06227\n",
            "Feature: 1, Score: 0.13405\n",
            "Feature: 2, Score: 0.80368\n",
            "X changed shape: (398, 2)\n",
            "cv_score 0.9496518987341773\n",
            "Feature: 0, Score: 0.19116\n",
            "Feature: 1, Score: 0.80884\n",
            "X changed shape: (398, 1)\n",
            "cv_score 0.9246202531645569\n"
          ]
        }
      ]
    },
    {
      "cell_type": "code",
      "source": [
        "np_array = np.array(cv_score_std)\n",
        "np_round_to = np.around(np_array, 2)\n",
        "cv_std = list(np_round_to)\n",
        "features_std = [str(item) for item in feat_count_std]"
      ],
      "metadata": {
        "id": "UfTgXbiF4Jdg"
      },
      "execution_count": null,
      "outputs": []
    },
    {
      "cell_type": "code",
      "source": [
        "feat_new = list()\n",
        "cv_new = list()\n",
        "for i in range(len(features)):\n",
        "  if features[i] in features_std:\n",
        "    feat_new.append(features[i])\n",
        "    cv_new.append(cv_score[i])"
      ],
      "metadata": {
        "id": "YQPctcHFv7r0"
      },
      "execution_count": null,
      "outputs": []
    },
    {
      "cell_type": "code",
      "source": [
        "plt.plot (features_std, cv_std, label = 'Standardised Data')\n",
        "plt.plot (feat_new,cv_new, color = 'red', label = 'Actual Data')\n",
        "plt.title(\"Number of Features vs Accurary\")\n",
        "plt.xlabel(\"Number of features\")\n",
        "plt.ylabel(\"Accuracy\")\n",
        "plt.legend()"
      ],
      "metadata": {
        "colab": {
          "base_uri": "https://localhost:8080/",
          "height": 313
        },
        "id": "4vlUcjCA4W6C",
        "outputId": "18f2a338-def6-4f21-a733-b0d428a63047"
      },
      "execution_count": null,
      "outputs": [
        {
          "output_type": "execute_result",
          "data": {
            "text/plain": [
              "<matplotlib.legend.Legend at 0x7fdb0c677e10>"
            ]
          },
          "metadata": {},
          "execution_count": 140
        },
        {
          "output_type": "display_data",
          "data": {
            "text/plain": [
              "<Figure size 432x288 with 1 Axes>"
            ],
            "image/png": "[encoded data removed]"
          },
          "metadata": {
            "needs_background": "light"
          }
        }
      ]
    },
    {
      "cell_type": "markdown",
      "source": [
        "Standardising the data helped us improve the performance of the model. This can be observed from the graph above. The standardised data has a better accuracy when compared to the actual data. The accurary is highest for 30 features\n",
        "\n",
        "K value (30 features) - 9 ('mean radius', 'mean texture', 'mean perimeter', 'mean area',\n",
        "        'mean smoothness', 'mean compactness', 'mean concavity',\n",
        "        'mean concave points', 'mean symmetry', 'mean fractal dimension',\n",
        "        'radius error', 'texture error', 'perimeter error', 'area error',\n",
        "        'smoothness error', 'compactness error', 'concavity error',\n",
        "        'concave points error', 'symmetry error',\n",
        "        'fractal dimension error', 'worst radius', 'worst texture',\n",
        "        'worst perimeter', 'worst area', 'worst smoothness',\n",
        "        'worst compactness', 'worst concavity', 'worst concave points',\n",
        "        'worst symmetry', 'worst fractal dimension')\n"
      ],
      "metadata": {
        "id": "sG_cP7wBORhf"
      }
    },
    {
      "cell_type": "markdown",
      "source": [
        "## Part 5: Decision Tree Classifier\n"
      ],
      "metadata": {
        "id": "HdmuHF4kGH5M"
      }
    },
    {
      "cell_type": "code",
      "source": [
        "#Decision Tree vs KNN\n",
        "from sklearn.tree import DecisionTreeClassifier\n",
        "from sklearn.model_selection import GridSearchCV\n",
        "from sklearn.neighbors import KNeighborsClassifier\n",
        "from sklearn.model_selection import cross_val_score\n",
        "\n",
        "parameters = {'max_depth': range(1,20), 'min_samples_split':range(2,20)}\n",
        "clf = GridSearchCV(DecisionTreeClassifier(),parameters,cv=5)\n",
        "clf.fit(X_train_std,y_train)\n",
        "print(\"Decision Tree Mean CV Score:\",clf.best_score_)\n",
        "\n",
        "knn = KNeighborsClassifier(n_neighbors=9)\n",
        "score = cross_val_score(knn, X_train_std, y_train, cv = 5, scoring = 'accuracy')\n",
        "print(\"KNN Mean CV Score:\",score.mean())\n"
      ],
      "metadata": {
        "id": "laYRhTK4Kytl",
        "colab": {
          "base_uri": "https://localhost:8080/"
        },
        "outputId": "df63c358-c414-42fb-d900-706aac5c5c26"
      },
      "execution_count": null,
      "outputs": [
        {
          "output_type": "stream",
          "name": "stdout",
          "text": [
            "Decision Tree Mean CV Score: 0.9321518987341773\n",
            "KNN Mean CV Score: 0.9598417721518986\n"
          ]
        }
      ]
    },
    {
      "cell_type": "markdown",
      "metadata": {
        "id": "k7QjKjHn2TZR"
      },
      "source": [
        "## Part 6: Test Data"
      ]
    },
    {
      "cell_type": "code",
      "metadata": {
        "id": "acdJ7EijBYqB",
        "colab": {
          "base_uri": "https://localhost:8080/"
        },
        "outputId": "8a4fe456-4f0a-4c1d-c493-d130129d640b"
      },
      "source": [
        "from sklearn.neighbors import KNeighborsClassifier\n",
        "from sklearn.model_selection import cross_val_score\n",
        "import matplotlib.pyplot as plt\n",
        "%matplotlib inline\n",
        "\n",
        "knn = KNeighborsClassifier(n_neighbors=9)\n",
        "score = cross_val_score(knn, X_test, y_test, cv = 5, scoring = 'accuracy')\n",
        "print(\"Test Data Mean CV Score:\",score.mean())"
      ],
      "execution_count": null,
      "outputs": [
        {
          "output_type": "stream",
          "name": "stdout",
          "text": [
            "Test Data Mean CV Score: 0.9300840336134453\n"
          ]
        }
      ]
    },
    {
      "cell_type": "markdown",
      "source": [
        "The training accuracy was highest (96.7%) in the case of standardised training set with 30 features. It had a K value of 9. When we use this value on the test data we get an accuracy of 93%."
      ],
      "metadata": {
        "id": "KYZkeRlFm1xq"
      }
    },
    {
      "cell_type": "code",
      "source": [],
      "metadata": {
        "id": "F2VjRQ-OfxUL"
      },
      "execution_count": null,
      "outputs": []
    }
  ]
}